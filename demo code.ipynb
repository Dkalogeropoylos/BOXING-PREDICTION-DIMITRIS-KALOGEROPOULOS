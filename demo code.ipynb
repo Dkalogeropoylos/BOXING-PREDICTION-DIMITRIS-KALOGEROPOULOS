{
  "cells": [
    {
      "cell_type": "markdown",
      "source": [
        "MODEL:RANDOM_FOREST_CLASSIFIER( PARAMETERS : n_estimators = 1000, max_depth = 3)"
      ],
      "metadata": {
        "id": "CFBLgAZzERgg"
      }
    },
    {
      "cell_type": "code",
      "source": [
        "model = RandomForestClassifier(n_estimators = 1000, max_depth = 3)\n",
        "x_train, x_test, y_train, y_test = train_test_split(df1_and_pm_s, winner_2, test_size = 0.3)\n",
        "model.fit(x_train, y_train)\n",
        "train_score = model.score(x_train, y_train)\n",
        "test_score = model.score(x_test, y_test)\n",
        "y_pred = model.predict(x_test)\n",
        "errors = abs(y_pred - y_test)\n",
        "accuracy = accuracy_score(y_test, y_pred)\n",
        "\n",
        "\n",
        "print(\"RandomForestClassifier\")\n",
        "print(\"Train score: %s\" % train_score)\n",
        "print(\"Test score: %s\" % test_score)\n",
        "print(\"Accuracy: %s\" % accuracy)\n"
      ],
      "metadata": {
        "colab": {
          "base_uri": "https://localhost:8080/"
        },
        "id": "yjwnYjy_nVoL",
        "outputId": "b80bb5ac-0ad1-4891-a573-d3e5598f919b"
      },
      "execution_count": null,
      "outputs": [
        {
          "output_type": "stream",
          "name": "stdout",
          "text": [
            "RandomForestClassifier\n",
            "Train score: 0.8679245283018868\n",
            "Test score: 0.7608695652173914\n",
            "Accuracy: 0.7608695652173914\n"
          ]
        }
      ]
    },
    {
      "cell_type": "markdown",
      "source": [
        "MODEL:RANDOM_FOREST_CLASSIFIER( PARAMETERS : n_estimators = 1000, max_depth = 5)"
      ],
      "metadata": {
        "id": "OvY0wO6tDZNw"
      }
    },
    {
      "cell_type": "code",
      "source": [
        "model = RandomForestClassifier(n_estimators = 1000, max_depth = 5)\n",
        "x_train, x_test, y_train, y_test = train_test_split(df1_and_pm_s, winner_2, test_size = 0.3)\n",
        "model.fit(x_train, y_train)\n",
        "train_score = model.score(x_train, y_train)\n",
        "test_score = model.score(x_test, y_test)\n",
        "y_pred = model.predict(x_test)\n",
        "errors = abs(y_pred - y_test)\n",
        "accuracy = accuracy_score(y_test, y_pred)\n",
        "\n",
        "\n",
        "print(\"RandomForestClassifier\")\n",
        "print(\"Train score: %s\" % train_score)\n",
        "print(\"Test score: %s\" % test_score)\n",
        "print(\"Accuracy: %s\" % accuracy)\n"
      ],
      "metadata": {
        "colab": {
          "base_uri": "https://localhost:8080/"
        },
        "id": "yo_AosPCAonu",
        "outputId": "94e65840-6cc1-4249-909e-6b8583143f07"
      },
      "execution_count": null,
      "outputs": [
        {
          "output_type": "stream",
          "name": "stdout",
          "text": [
            "RandomForestClassifier\n",
            "Train score: 0.9905660377358491\n",
            "Test score: 0.6739130434782609\n",
            "Accuracy: 0.6739130434782609\n"
          ]
        }
      ]
    },
    {
      "cell_type": "markdown",
      "source": [
        "MODEL:RANDOM_FOREST_CLASSIFIER( PARAMETERS : n_estimators = 1000, max_depth = 2)"
      ],
      "metadata": {
        "id": "EXBaaFGdEJX1"
      }
    },
    {
      "cell_type": "code",
      "source": [
        "model = RandomForestClassifier(n_estimators = 1000, max_depth = 2)\n",
        "x_train, x_test, y_train, y_test = train_test_split(df1_and_pm_s, winner_2, test_size = 0.3)\n",
        "model.fit(x_train, y_train)\n",
        "train_score = model.score(x_train, y_train)\n",
        "test_score = model.score(x_test, y_test)\n",
        "y_pred = model.predict(x_test)\n",
        "errors = abs(y_pred - y_test)\n",
        "accuracy = accuracy_score(y_test, y_pred)\n",
        "\n",
        "\n",
        "print(\"RandomForestClassifier\")\n",
        "print(\"Train score: %s\" % train_score)\n",
        "print(\"Test score: %s\" % test_score)\n",
        "print(\"Accuracy: %s\" % accuracy)\n"
      ],
      "metadata": {
        "colab": {
          "base_uri": "https://localhost:8080/"
        },
        "id": "-HUaOkVcAujQ",
        "outputId": "8002430b-f137-41a2-cd5c-5ee9005887f9"
      },
      "execution_count": null,
      "outputs": [
        {
          "output_type": "stream",
          "name": "stdout",
          "text": [
            "RandomForestClassifier\n",
            "Train score: 0.8207547169811321\n",
            "Test score: 0.6739130434782609\n",
            "Accuracy: 0.6739130434782609\n"
          ]
        }
      ]
    },
    {
      "cell_type": "markdown",
      "source": [
        "XGBOOST CLASSIFIER(PARAMETERS :max_depth=2, learning_rate=0.001, n_estimators=100)"
      ],
      "metadata": {
        "id": "_I5Vi_bjEVPc"
      }
    },
    {
      "cell_type": "code",
      "source": [
        "model = XGBClassifier(max_depth=2, learning_rate=0.001, n_estimators=100)\n",
        "\n",
        "\n",
        "x_train, x_test, y_train, y_test = train_test_split(df1_and_pm_s, winner_2, test_size = 0.3, random_state = 15)\n",
        "\n",
        "model.fit(x_train, y_train)\n",
        "train_score = model.score(x_train, y_train)\n",
        "test_score = model.score(x_test, y_test)\n",
        "y_pred_winner = model.predict(x_test)\n",
        "accuracy = accuracy_score(y_test,  y_pred_winner)\n",
        "\n",
        "\n",
        "print(\" XGBClassifier\")\n",
        "print(\"Train score: %s\" % train_score)\n",
        "print(\"Test score: %s\" % test_score)\n",
        "print(\"Accuracy: %s\" % accuracy)\n"
      ],
      "metadata": {
        "colab": {
          "base_uri": "https://localhost:8080/"
        },
        "id": "QQLeKSr5tRdT",
        "outputId": "5e8df632-ad15-4541-9db6-84dd66bb472a"
      },
      "execution_count": null,
      "outputs": [
        {
          "output_type": "stream",
          "name": "stdout",
          "text": [
            " XGBClassifier\n",
            "Train score: 0.8018867924528302\n",
            "Test score: 0.6956521739130435\n",
            "Accuracy: 0.6956521739130435\n"
          ]
        }
      ]
    },
    {
      "cell_type": "markdown",
      "source": [
        "XGBOOST CLASSIFIER(PARAMETERS :max_depth=4, learning_rate=0.001, n_estimators=100)"
      ],
      "metadata": {
        "id": "q_x3YkpoEsfX"
      }
    },
    {
      "cell_type": "code",
      "source": [
        "model = XGBClassifier(max_depth=4, learning_rate=0.001, n_estimators=100)\n",
        "\n",
        "\n",
        "x_train, x_test, y_train, y_test = train_test_split(df1_and_pm_s, winner_2, test_size = 0.3, random_state = 15)\n",
        "\n",
        "model.fit(x_train, y_train)\n",
        "train_score = model.score(x_train, y_train)\n",
        "test_score = model.score(x_test, y_test)\n",
        "y_pred_winner = model.predict(x_test)\n",
        "accuracy = accuracy_score(y_test,  y_pred_winner)\n",
        "\n",
        "\n",
        "print(\" XGBClassifier\")\n",
        "print(\"Train score: %s\" % train_score)\n",
        "print(\"Test score: %s\" % test_score)\n",
        "print(\"Accuracy: %s\" % accuracy)"
      ],
      "metadata": {
        "colab": {
          "base_uri": "https://localhost:8080/"
        },
        "id": "nGv78bon9WRH",
        "outputId": "bd6ec2c8-5c89-4303-e9b2-ccbc8d2619b6"
      },
      "execution_count": null,
      "outputs": [
        {
          "output_type": "stream",
          "name": "stdout",
          "text": [
            " XGBClassifier\n",
            "Train score: 0.9716981132075472\n",
            "Test score: 0.6739130434782609\n",
            "Accuracy: 0.6739130434782609\n"
          ]
        }
      ]
    },
    {
      "cell_type": "markdown",
      "source": [
        "XGBOOST CLASSIFIER(PARAMETERS :max_depth=2, learning_rate=0.003, n_estimators=1000)"
      ],
      "metadata": {
        "id": "Q6vCB_ohEwLD"
      }
    },
    {
      "cell_type": "code",
      "source": [
        "model = XGBClassifier(max_depth=1, learning_rate=0.003, n_estimators=1000)\n",
        "\n",
        "\n",
        "x_train, x_test, y_train, y_test = train_test_split(df1_and_pm_s, winner_2, test_size = 0.3, random_state = 15)\n",
        "\n",
        "model.fit(x_train, y_train)\n",
        "train_score = model.score(x_train, y_train)\n",
        "test_score = model.score(x_test, y_test)\n",
        "y_pred_winner = model.predict(x_test)\n",
        "accuracy = accuracy_score(y_test,  y_pred_winner)\n",
        "\n",
        "\n",
        "print(\" XGBClassifier\")\n",
        "print(\"Train score: %s\" % train_score)\n",
        "print(\"Test score: %s\" % test_score)\n",
        "print(\"Accuracy: %s\" % accuracy)"
      ],
      "metadata": {
        "colab": {
          "base_uri": "https://localhost:8080/"
        },
        "id": "wQJuytXS9yDI",
        "outputId": "c0831485-b9c2-4879-dd8a-5f8728bac39c"
      },
      "execution_count": null,
      "outputs": [
        {
          "output_type": "stream",
          "name": "stdout",
          "text": [
            " XGBClassifier\n",
            "Train score: 0.7830188679245284\n",
            "Test score: 0.5869565217391305\n",
            "Accuracy: 0.5869565217391305\n"
          ]
        }
      ]
    },
    {
      "cell_type": "markdown",
      "source": [
        "LINEAR REGRESSION"
      ],
      "metadata": {
        "id": "5VuIydnPBe_U"
      }
    },
    {
      "cell_type": "code",
      "source": [
        "\n",
        "model=LinearRegression()\n",
        "\n",
        "\n",
        "X_train, X_test, y_train, y_test = train_test_split(df1_and_pm_s, winner_2, test_size=0.2, random_state=42)\n",
        "\n",
        "\n",
        "reg = model.fit(X_train, y_train)\n",
        "\n",
        "\n",
        "y_pred = reg.predict(X_test)\n",
        "\n",
        "\n",
        "mse = mean_squared_error(y_test, y_pred)\n",
        "r2 = r2_score(y_test, y_pred)\n",
        "\n",
        "print(\"Mean Squared Error:\", mse)\n",
        "print(\"R^2 Score:\", r2)\n"
      ],
      "metadata": {
        "colab": {
          "base_uri": "https://localhost:8080/"
        },
        "id": "DlNvJWxIBaCJ",
        "outputId": "a9a15b91-0e56-4651-bb0c-4fe0cde16bee"
      },
      "execution_count": null,
      "outputs": [
        {
          "output_type": "stream",
          "name": "stdout",
          "text": [
            "Mean Squared Error: 0.3188654724083213\n",
            "R^2 Score: -0.08663020916452768\n"
          ]
        }
      ]
    },
    {
      "cell_type": "markdown",
      "source": [
        "DECISION_TREE_CLASSIFIER (PARAMETERS criterion = 'entropy',max_depth=2)\n",
        "\n",
        "\n"
      ],
      "metadata": {
        "id": "vHonuEuDHaZv"
      }
    },
    {
      "cell_type": "code",
      "source": [
        "tree_classifier = DecisionTreeClassifier(criterion = 'entropy',max_depth=2)\n",
        "\n",
        "X_train, X_test, y_train, y_test = train_test_split(df1_and_pm_s, winner_2, test_size=0.3, random_state=42)\n",
        "\n",
        "\n",
        "\n",
        "tree_classifier.fit(X_train, y_train)\n",
        "\n",
        "y_pred = tree_classifier.predict(X_test)\n",
        "\n",
        "\n",
        "acc = accuracy_score(y_test, y_pred)\n",
        "\n",
        "print(\"Test set score: {:.3f}\".format(tree_classifier.score(X_test,y_test)))\n",
        "\n",
        "\n"
      ],
      "metadata": {
        "colab": {
          "base_uri": "https://localhost:8080/"
        },
        "id": "RXoiwLA6Gjnn",
        "outputId": "08a341db-d23c-420f-ea0a-b65b00b86b24"
      },
      "execution_count": null,
      "outputs": [
        {
          "output_type": "stream",
          "name": "stdout",
          "text": [
            "Test set score: 0.761\n"
          ]
        }
      ]
    },
    {
      "cell_type": "markdown",
      "source": [
        "DECISION_TREE_CLASSIFIER (PARAMETERS criterion = 'entropy',max_depth=2)\n"
      ],
      "metadata": {
        "id": "zezZsn3ZHyTB"
      }
    },
    {
      "cell_type": "code",
      "source": [
        "tree_classifier = DecisionTreeClassifier(criterion = 'entropy',max_depth=3)\n",
        "\n",
        "X_train, X_test, y_train, y_test = train_test_split(df1_and_pm_s, winner_2, test_size=0.3, random_state=42)\n",
        "\n",
        "\n",
        "\n",
        "tree_classifier.fit(X_train, y_train)\n",
        "\n",
        "y_pred = tree_classifier.predict(X_test)\n",
        "\n",
        "\n",
        "acc = accuracy_score(y_test, y_pred)\n",
        "\n",
        "print(\"Test set score: {:.3f}\".format(tree_classifier.score(X_test,y_test)))\n"
      ],
      "metadata": {
        "colab": {
          "base_uri": "https://localhost:8080/"
        },
        "id": "ABymE55UHzYb",
        "outputId": "eafaeb8a-541d-4112-e294-612531104fa3"
      },
      "execution_count": null,
      "outputs": [
        {
          "output_type": "stream",
          "name": "stdout",
          "text": [
            "Test set score: 0.522\n"
          ]
        }
      ]
    }
  ],
  "metadata": {
    "colab": {
      "provenance": []
    },
    "kernelspec": {
      "display_name": "Python 3",
      "name": "python3"
    },
    "language_info": {
      "name": "python"
    }
  },
  "nbformat": 4,
  "nbformat_minor": 0
}