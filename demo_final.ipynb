{
  "cells": [
    {
      "cell_type": "code",
      "source": [
        "model = RandomForestClassifier(n_estimators = 1000, max_depth = 3)\n",
        "\n",
        "model.fit(x_train, y_train)\n",
        "\n",
        "train_score = model.score(x_train, y_train)\n",
        "test_score = model.score(x_test, y_test)\n",
        "y_pred = model.predict(x_test)\n",
        "errors = abs(y_pred - y_test)\n",
        "accuracy = accuracy_score(y_test, y_pred)\n",
        "\n",
        "print(\"RandomForestClassifier\")\n",
        "\n",
        "print(classification_report(y_test, y_pred))\n",
        "np.set_printoptions(precision=2)\n",
        "class_names = np.array(['1', '2', '0'])\n",
        "plot_confusion_matrix(y_test, y_pred, classes=class_names,\n",
        "                      title='Confusion matrix, without normalization')\n",
        "\n",
        "plt.show()\n",
        "\n",
        "print(\"Train score: %s\" % train_score)\n",
        "print(\"Test score: %s\" % test_score)\n",
        "print(\"Accuracy: %s\" % accuracy)\n"
      ],
      "metadata": {
        "colab": {
          "base_uri": "https://localhost:8080/",
          "height": 664
        },
        "id": "yjwnYjy_nVoL",
        "outputId": "8db83a1a-645a-436f-ca2e-b32d63bd2745"
      },
      "execution_count": null,
      "outputs": [
        {
          "output_type": "stream",
          "name": "stdout",
          "text": [
            "RandomForestClassifier\n",
            "              precision    recall  f1-score   support\n",
            "\n",
            "           0       0.00      0.00      0.00         2\n",
            "           1       0.83      0.56      0.67         9\n",
            "           2       0.76      0.95      0.84        20\n",
            "\n",
            "    accuracy                           0.77        31\n",
            "   macro avg       0.53      0.50      0.50        31\n",
            "weighted avg       0.73      0.77      0.74        31\n",
            "\n"
          ]
        },
        {
          "output_type": "stream",
          "name": "stderr",
          "text": [
            "/usr/local/lib/python3.8/dist-packages/sklearn/metrics/_classification.py:1318: UndefinedMetricWarning: Precision and F-score are ill-defined and being set to 0.0 in labels with no predicted samples. Use `zero_division` parameter to control this behavior.\n",
            "  _warn_prf(average, modifier, msg_start, len(result))\n",
            "/usr/local/lib/python3.8/dist-packages/sklearn/metrics/_classification.py:1318: UndefinedMetricWarning: Precision and F-score are ill-defined and being set to 0.0 in labels with no predicted samples. Use `zero_division` parameter to control this behavior.\n",
            "  _warn_prf(average, modifier, msg_start, len(result))\n",
            "/usr/local/lib/python3.8/dist-packages/sklearn/metrics/_classification.py:1318: UndefinedMetricWarning: Precision and F-score are ill-defined and being set to 0.0 in labels with no predicted samples. Use `zero_division` parameter to control this behavior.\n",
            "  _warn_prf(average, modifier, msg_start, len(result))\n"
          ]
        },
        {
          "output_type": "display_data",
          "data": {
            "text/plain": [
              "<Figure size 432x288 with 2 Axes>"
            ],
            "image/png": "[encoded data removed]"
          },
          "metadata": {
            "needs_background": "light"
          }
        },
        {
          "output_type": "stream",
          "name": "stdout",
          "text": [
            "Train score: 0.9090909090909091\n",
            "Test score: 0.7741935483870968\n",
            "Accuracy: 0.7741935483870968\n"
          ]
        }
      ]
    },
    {
      "cell_type": "markdown",
      "source": [
        "MODEL:RANDOM_FOREST_CLASSIFIER( PARAMETERS : n_estimators = 1000, max_depth = 6)"
      ],
      "metadata": {
        "id": "OvY0wO6tDZNw"
      }
    },
    {
      "cell_type": "code",
      "source": [
        "model = RandomForestClassifier(n_estimators = 1000, max_depth = 5)\n",
        "\n",
        "model.fit(x_train, y_train)\n",
        "train_score = model.score(x_train, y_train)\n",
        "test_score = model.score(x_test, y_test)\n",
        "y_pred = model.predict(x_test)\n",
        "errors = abs(y_pred - y_test)\n",
        "accuracy = accuracy_score(y_test, y_pred)\n",
        "\n",
        "\n",
        "print(\"RandomForestClassifier\")\n",
        "print(\"Train score: %s\" % train_score)\n",
        "print(\"Test score: %s\" % test_score)\n",
        "print(classification_report(y_test, y_pred))\n",
        "\n",
        "np.set_printoptions(precision=2)\n",
        "class_names = np.array(['1', '2', '0'])\n",
        "\n",
        "print(classification_report(y_test, y_pred))\n",
        "plot_confusion_matrix(y_test, y_pred, classes=class_names,\n",
        "                      title='Confusion matrix, without normalization')\n",
        "\n",
        "\n",
        "\n",
        "plt.show()"
      ],
      "metadata": {
        "colab": {
          "base_uri": "https://localhost:8080/",
          "height": 925
        },
        "id": "yo_AosPCAonu",
        "outputId": "d819a972-0c61-4885-d151-194d97a77878"
      },
      "execution_count": null,
      "outputs": [
        {
          "output_type": "stream",
          "name": "stdout",
          "text": [
            "RandomForestClassifier\n",
            "Train score: 0.9834710743801653\n",
            "Test score: 0.7096774193548387\n",
            "              precision    recall  f1-score   support\n",
            "\n",
            "           0       0.00      0.00      0.00         2\n",
            "           1       0.56      0.56      0.56         9\n",
            "           2       0.77      0.85      0.81        20\n",
            "\n",
            "    accuracy                           0.71        31\n",
            "   macro avg       0.44      0.47      0.46        31\n",
            "weighted avg       0.66      0.71      0.68        31\n",
            "\n",
            "              precision    recall  f1-score   support\n",
            "\n",
            "           0       0.00      0.00      0.00         2\n",
            "           1       0.56      0.56      0.56         9\n",
            "           2       0.77      0.85      0.81        20\n",
            "\n",
            "    accuracy                           0.71        31\n",
            "   macro avg       0.44      0.47      0.46        31\n",
            "weighted avg       0.66      0.71      0.68        31\n",
            "\n"
          ]
        },
        {
          "output_type": "stream",
          "name": "stderr",
          "text": [
            "/usr/local/lib/python3.8/dist-packages/sklearn/metrics/_classification.py:1318: UndefinedMetricWarning: Precision and F-score are ill-defined and being set to 0.0 in labels with no predicted samples. Use `zero_division` parameter to control this behavior.\n",
            "  _warn_prf(average, modifier, msg_start, len(result))\n",
            "/usr/local/lib/python3.8/dist-packages/sklearn/metrics/_classification.py:1318: UndefinedMetricWarning: Precision and F-score are ill-defined and being set to 0.0 in labels with no predicted samples. Use `zero_division` parameter to control this behavior.\n",
            "  _warn_prf(average, modifier, msg_start, len(result))\n",
            "/usr/local/lib/python3.8/dist-packages/sklearn/metrics/_classification.py:1318: UndefinedMetricWarning: Precision and F-score are ill-defined and being set to 0.0 in labels with no predicted samples. Use `zero_division` parameter to control this behavior.\n",
            "  _warn_prf(average, modifier, msg_start, len(result))\n",
            "/usr/local/lib/python3.8/dist-packages/sklearn/metrics/_classification.py:1318: UndefinedMetricWarning: Precision and F-score are ill-defined and being set to 0.0 in labels with no predicted samples. Use `zero_division` parameter to control this behavior.\n",
            "  _warn_prf(average, modifier, msg_start, len(result))\n",
            "/usr/local/lib/python3.8/dist-packages/sklearn/metrics/_classification.py:1318: UndefinedMetricWarning: Precision and F-score are ill-defined and being set to 0.0 in labels with no predicted samples. Use `zero_division` parameter to control this behavior.\n",
            "  _warn_prf(average, modifier, msg_start, len(result))\n",
            "/usr/local/lib/python3.8/dist-packages/sklearn/metrics/_classification.py:1318: UndefinedMetricWarning: Precision and F-score are ill-defined and being set to 0.0 in labels with no predicted samples. Use `zero_division` parameter to control this behavior.\n",
            "  _warn_prf(average, modifier, msg_start, len(result))\n"
          ]
        },
        {
          "output_type": "display_data",
          "data": {
            "text/plain": [
              "<Figure size 432x288 with 2 Axes>"
            ],
            "image/png": "[encoded data removed]"
          },
          "metadata": {
            "needs_background": "light"
          }
        }
      ]
    },
    {
      "cell_type": "markdown",
      "source": [
        "MODEL:RANDOM_FOREST_CLASSIFIER( PARAMETERS : n_estimators = 1000, max_depth = 2)"
      ],
      "metadata": {
        "id": "EXBaaFGdEJX1"
      }
    },
    {
      "cell_type": "code",
      "source": [
        "model = RandomForestClassifier(n_estimators = 1000, max_depth = 2)\n",
        "\n",
        "model.fit(x_train, y_train)\n",
        "train_score = model.score(x_train, y_train)\n",
        "test_score = model.score(x_test, y_test)\n",
        "y_pred = model.predict(x_test)\n",
        "errors = abs(y_pred - y_test)\n",
        "accuracy = accuracy_score(y_test, y_pred)\n",
        "\n",
        "\n",
        "\n",
        "print(\"RandomForestClassifier\")\n",
        "print(classification_report(y_test, y_pred))\n",
        "\n",
        "print(\"Train score: %s\" % train_score)\n",
        "print(\"Test score: %s\" % test_score)\n",
        "\n"
      ],
      "metadata": {
        "colab": {
          "base_uri": "https://localhost:8080/"
        },
        "id": "-HUaOkVcAujQ",
        "outputId": "a4b4ae90-fe41-4ad8-c3ed-0c1bb461dc31"
      },
      "execution_count": null,
      "outputs": [
        {
          "output_type": "stream",
          "name": "stdout",
          "text": [
            "RandomForestClassifier\n",
            "              precision    recall  f1-score   support\n",
            "\n",
            "           0       0.00      0.00      0.00         2\n",
            "           1       0.80      0.44      0.57         9\n",
            "           2       0.73      0.95      0.83        20\n",
            "\n",
            "    accuracy                           0.74        31\n",
            "   macro avg       0.51      0.46      0.47        31\n",
            "weighted avg       0.70      0.74      0.70        31\n",
            "\n",
            "Train score: 0.8181818181818182\n",
            "Test score: 0.7419354838709677\n"
          ]
        },
        {
          "output_type": "stream",
          "name": "stderr",
          "text": [
            "/usr/local/lib/python3.8/dist-packages/sklearn/metrics/_classification.py:1318: UndefinedMetricWarning: Precision and F-score are ill-defined and being set to 0.0 in labels with no predicted samples. Use `zero_division` parameter to control this behavior.\n",
            "  _warn_prf(average, modifier, msg_start, len(result))\n",
            "/usr/local/lib/python3.8/dist-packages/sklearn/metrics/_classification.py:1318: UndefinedMetricWarning: Precision and F-score are ill-defined and being set to 0.0 in labels with no predicted samples. Use `zero_division` parameter to control this behavior.\n",
            "  _warn_prf(average, modifier, msg_start, len(result))\n",
            "/usr/local/lib/python3.8/dist-packages/sklearn/metrics/_classification.py:1318: UndefinedMetricWarning: Precision and F-score are ill-defined and being set to 0.0 in labels with no predicted samples. Use `zero_division` parameter to control this behavior.\n",
            "  _warn_prf(average, modifier, msg_start, len(result))\n"
          ]
        }
      ]
    },
    {
      "cell_type": "markdown",
      "source": [
        "XGBOOST CLASSIFIER(PARAMETERS :max_depth=2, learning_rate=0.001, n_estimators=100)"
      ],
      "metadata": {
        "id": "_I5Vi_bjEVPc"
      }
    },
    {
      "cell_type": "code",
      "source": [
        "model = XGBClassifier(max_depth=2, learning_rate=0.001, n_estimators=100)\n",
        "\n",
        "\n",
        "\n",
        "\n",
        "model.fit(x_train, y_train)\n",
        "train_score = model.score(x_train, y_train)\n",
        "test_score = model.score(x_test, y_test)\n",
        "y_pred_winner = model.predict(x_test)\n",
        "accuracy = accuracy_score(y_test,  y_pred_winner)\n",
        "\n",
        "\n",
        "print(\" XGBClassifier\")\n",
        "print(classification_report(y_test, y_pred))\n",
        "print(\"Train score: %s\" % train_score)\n",
        "\n",
        "\n"
      ],
      "metadata": {
        "colab": {
          "base_uri": "https://localhost:8080/"
        },
        "id": "QQLeKSr5tRdT",
        "outputId": "ccb96bf1-6842-4431-eb48-e6db500c63fc"
      },
      "execution_count": null,
      "outputs": [
        {
          "output_type": "stream",
          "name": "stdout",
          "text": [
            " XGBClassifier\n",
            "              precision    recall  f1-score   support\n",
            "\n",
            "           0       0.00      0.00      0.00         1\n",
            "           1       0.00      0.00      0.00        17\n",
            "           2       0.61      1.00      0.76        28\n",
            "\n",
            "    accuracy                           0.61        46\n",
            "   macro avg       0.20      0.33      0.25        46\n",
            "weighted avg       0.37      0.61      0.46        46\n",
            "\n",
            "Train score: 0.7264150943396226\n"
          ]
        },
        {
          "output_type": "stream",
          "name": "stderr",
          "text": [
            "/usr/local/lib/python3.8/dist-packages/sklearn/metrics/_classification.py:1318: UndefinedMetricWarning: Precision and F-score are ill-defined and being set to 0.0 in labels with no predicted samples. Use `zero_division` parameter to control this behavior.\n",
            "  _warn_prf(average, modifier, msg_start, len(result))\n",
            "/usr/local/lib/python3.8/dist-packages/sklearn/metrics/_classification.py:1318: UndefinedMetricWarning: Precision and F-score are ill-defined and being set to 0.0 in labels with no predicted samples. Use `zero_division` parameter to control this behavior.\n",
            "  _warn_prf(average, modifier, msg_start, len(result))\n",
            "/usr/local/lib/python3.8/dist-packages/sklearn/metrics/_classification.py:1318: UndefinedMetricWarning: Precision and F-score are ill-defined and being set to 0.0 in labels with no predicted samples. Use `zero_division` parameter to control this behavior.\n",
            "  _warn_prf(average, modifier, msg_start, len(result))\n"
          ]
        }
      ]
    },
    {
      "cell_type": "markdown",
      "source": [
        "XGBOOST CLASSIFIER(PARAMETERS :max_depth=4, learning_rate=0.001, n_estimators=100)"
      ],
      "metadata": {
        "id": "q_x3YkpoEsfX"
      }
    },
    {
      "cell_type": "code",
      "source": [
        "model = XGBClassifier(max_depth=4, learning_rate=0.001, n_estimators=100)\n",
        "\n",
        "\n",
        "x_train, x_test, y_train, y_test = train_test_split(df1_and_pm, winner_2, test_size = 0.3, random_state = 15)\n",
        "\n",
        "model.fit(x_train, y_train)\n",
        "train_score = model.score(x_train, y_train)\n",
        "test_score = model.score(x_test, y_test)\n",
        "y_pred_winner = model.predict(x_test)\n",
        "accuracy = accuracy_score(y_test,  y_pred_winner)\n",
        "\n",
        "\n",
        "print(\" XGBClassifier\")\n",
        "print(classification_report(y_test, y_pred_winner))\n",
        "print(\"Train score: %s\" % train_score)\n",
        "\n"
      ],
      "metadata": {
        "colab": {
          "base_uri": "https://localhost:8080/"
        },
        "id": "nGv78bon9WRH",
        "outputId": "060fba16-d1e5-4c01-8461-366749f2b3b7"
      },
      "execution_count": null,
      "outputs": [
        {
          "output_type": "stream",
          "name": "stdout",
          "text": [
            " XGBClassifier\n",
            "              precision    recall  f1-score   support\n",
            "\n",
            "           0       0.00      0.00      0.00         2\n",
            "           1       0.53      0.53      0.53        15\n",
            "           2       0.79      0.79      0.79        29\n",
            "\n",
            "    accuracy                           0.67        46\n",
            "   macro avg       0.44      0.44      0.44        46\n",
            "weighted avg       0.67      0.67      0.67        46\n",
            "\n",
            "Train score: 0.9716981132075472\n"
          ]
        }
      ]
    },
    {
      "cell_type": "markdown",
      "source": [
        "XGBOOST CLASSIFIER(PARAMETERS :max_depth=2, learning_rate=0.003, n_estimators=1000)"
      ],
      "metadata": {
        "id": "Q6vCB_ohEwLD"
      }
    },
    {
      "cell_type": "code",
      "source": [
        "model = XGBClassifier(max_depth=1, learning_rate=0.003, n_estimators=1000)\n",
        "\n",
        "\n",
        "\n",
        "model.fit(x_train, y_train)\n",
        "train_score = model.score(x_train, y_train)\n",
        "test_score = model.score(x_test, y_test)\n",
        "y_pred_winner = model.predict(x_test)\n",
        "accuracy = accuracy_score(y_test,  y_pred_winner)\n",
        "\n",
        "\n",
        "print(\" XGBClassifier\")\n",
        "print(classification_report(y_test, y_pred_winner))\n",
        "print(\"Train score: %s\" % train_score)\n",
        "\n"
      ],
      "metadata": {
        "colab": {
          "base_uri": "https://localhost:8080/"
        },
        "id": "wQJuytXS9yDI",
        "outputId": "884411d7-6208-414d-b52c-5cd8e4152250"
      },
      "execution_count": null,
      "outputs": [
        {
          "output_type": "stream",
          "name": "stdout",
          "text": [
            " XGBClassifier\n",
            "              precision    recall  f1-score   support\n",
            "\n",
            "           0       0.00      0.00      0.00         2\n",
            "           1       0.38      0.20      0.26        15\n",
            "           2       0.63      0.83      0.72        29\n",
            "\n",
            "    accuracy                           0.59        46\n",
            "   macro avg       0.34      0.34      0.33        46\n",
            "weighted avg       0.52      0.59      0.54        46\n",
            "\n",
            "Train score: 0.7830188679245284\n"
          ]
        },
        {
          "output_type": "stream",
          "name": "stderr",
          "text": [
            "/usr/local/lib/python3.8/dist-packages/sklearn/metrics/_classification.py:1318: UndefinedMetricWarning: Precision and F-score are ill-defined and being set to 0.0 in labels with no predicted samples. Use `zero_division` parameter to control this behavior.\n",
            "  _warn_prf(average, modifier, msg_start, len(result))\n",
            "/usr/local/lib/python3.8/dist-packages/sklearn/metrics/_classification.py:1318: UndefinedMetricWarning: Precision and F-score are ill-defined and being set to 0.0 in labels with no predicted samples. Use `zero_division` parameter to control this behavior.\n",
            "  _warn_prf(average, modifier, msg_start, len(result))\n",
            "/usr/local/lib/python3.8/dist-packages/sklearn/metrics/_classification.py:1318: UndefinedMetricWarning: Precision and F-score are ill-defined and being set to 0.0 in labels with no predicted samples. Use `zero_division` parameter to control this behavior.\n",
            "  _warn_prf(average, modifier, msg_start, len(result))\n"
          ]
        }
      ]
    },
    {
      "cell_type": "markdown",
      "source": [
        "DECISION_TREE_CLASSIFIER (PARAMETERS criterion = 'entropy',max_depth=2)\n",
        "\n",
        "\n"
      ],
      "metadata": {
        "id": "vHonuEuDHaZv"
      }
    },
    {
      "cell_type": "code",
      "source": [
        "tree_classifier = DecisionTreeClassifier(criterion = 'entropy',max_depth=2)\n",
        "\n",
        "\n",
        "\n",
        "\n",
        "tree_classifier.fit(x_train, y_train)\n",
        "\n",
        "y_pred = tree_classifier.predict(x_test)\n",
        "\n",
        "print(classification_report(y_test, y_pred))\n",
        "\n",
        "\n",
        "\n",
        "\n"
      ],
      "metadata": {
        "colab": {
          "base_uri": "https://localhost:8080/"
        },
        "id": "RXoiwLA6Gjnn",
        "outputId": "c7a0bbb7-df29-4f0a-b71d-62203f3e032c"
      },
      "execution_count": null,
      "outputs": [
        {
          "output_type": "stream",
          "name": "stdout",
          "text": [
            "              precision    recall  f1-score   support\n",
            "\n",
            "           0       0.00      0.00      0.00         2\n",
            "           1       0.47      0.60      0.53        15\n",
            "           2       0.74      0.69      0.71        29\n",
            "\n",
            "    accuracy                           0.63        46\n",
            "   macro avg       0.40      0.43      0.41        46\n",
            "weighted avg       0.62      0.63      0.62        46\n",
            "\n"
          ]
        },
        {
          "output_type": "stream",
          "name": "stderr",
          "text": [
            "/usr/local/lib/python3.8/dist-packages/sklearn/metrics/_classification.py:1318: UndefinedMetricWarning: Precision and F-score are ill-defined and being set to 0.0 in labels with no predicted samples. Use `zero_division` parameter to control this behavior.\n",
            "  _warn_prf(average, modifier, msg_start, len(result))\n",
            "/usr/local/lib/python3.8/dist-packages/sklearn/metrics/_classification.py:1318: UndefinedMetricWarning: Precision and F-score are ill-defined and being set to 0.0 in labels with no predicted samples. Use `zero_division` parameter to control this behavior.\n",
            "  _warn_prf(average, modifier, msg_start, len(result))\n",
            "/usr/local/lib/python3.8/dist-packages/sklearn/metrics/_classification.py:1318: UndefinedMetricWarning: Precision and F-score are ill-defined and being set to 0.0 in labels with no predicted samples. Use `zero_division` parameter to control this behavior.\n",
            "  _warn_prf(average, modifier, msg_start, len(result))\n"
          ]
        }
      ]
    },
    {
      "cell_type": "markdown",
      "source": [
        "DECISION_TREE_CLASSIFIER (PARAMETERS criterion = 'gini',max_depth=3)\n"
      ],
      "metadata": {
        "id": "zezZsn3ZHyTB"
      }
    },
    {
      "cell_type": "code",
      "source": [
        "tree_classifier = DecisionTreeClassifier(criterion = 'gini',max_depth=2)\n",
        "\n",
        "\n",
        "\n",
        "tree_classifier.fit(x_train, y_train)\n",
        "\n",
        "y_pred = tree_classifier.predict(x_test)\n",
        "\n",
        "print(classification_report(y_test, y_pred))\n",
        "\n",
        "\n"
      ],
      "metadata": {
        "colab": {
          "base_uri": "https://localhost:8080/"
        },
        "id": "ABymE55UHzYb",
        "outputId": "b464e6c7-6294-4067-ca0e-24ae9ca58dd1"
      },
      "execution_count": null,
      "outputs": [
        {
          "output_type": "stream",
          "name": "stdout",
          "text": [
            "              precision    recall  f1-score   support\n",
            "\n",
            "           0       0.50      0.50      0.50         2\n",
            "           1       0.73      0.53      0.62        15\n",
            "           2       0.76      0.86      0.81        29\n",
            "\n",
            "    accuracy                           0.74        46\n",
            "   macro avg       0.66      0.63      0.64        46\n",
            "weighted avg       0.74      0.74      0.73        46\n",
            "\n"
          ]
        }
      ]
    },
    {
      "cell_type": "markdown",
      "source": [
        "SVM PAREMETERS C=1.0"
      ],
      "metadata": {
        "id": "MFN2PYXsu-hW"
      }
    },
    {
      "cell_type": "code",
      "source": [
        "model = svm.SVC(C=1.0)\n",
        "model.fit(x_train, y_train)\n",
        "y_pred = model.predict(X_test)\n",
        "print(classification_report(y_test, y_pred))\n"
      ],
      "metadata": {
        "colab": {
          "base_uri": "https://localhost:8080/"
        },
        "id": "CG9B-f9tiKf1",
        "outputId": "365f9278-2697-4ed2-9097-4e72a31af70d"
      },
      "execution_count": null,
      "outputs": [
        {
          "output_type": "stream",
          "name": "stdout",
          "text": [
            "              precision    recall  f1-score   support\n",
            "\n",
            "           0       0.00      0.00      0.00         1\n",
            "           1       0.00      0.00      0.00        17\n",
            "           2       0.61      1.00      0.76        28\n",
            "\n",
            "    accuracy                           0.61        46\n",
            "   macro avg       0.20      0.33      0.25        46\n",
            "weighted avg       0.37      0.61      0.46        46\n",
            "\n"
          ]
        },
        {
          "output_type": "stream",
          "name": "stderr",
          "text": [
            "/usr/local/lib/python3.8/dist-packages/sklearn/metrics/_classification.py:1318: UndefinedMetricWarning: Precision and F-score are ill-defined and being set to 0.0 in labels with no predicted samples. Use `zero_division` parameter to control this behavior.\n",
            "  _warn_prf(average, modifier, msg_start, len(result))\n",
            "/usr/local/lib/python3.8/dist-packages/sklearn/metrics/_classification.py:1318: UndefinedMetricWarning: Precision and F-score are ill-defined and being set to 0.0 in labels with no predicted samples. Use `zero_division` parameter to control this behavior.\n",
            "  _warn_prf(average, modifier, msg_start, len(result))\n",
            "/usr/local/lib/python3.8/dist-packages/sklearn/metrics/_classification.py:1318: UndefinedMetricWarning: Precision and F-score are ill-defined and being set to 0.0 in labels with no predicted samples. Use `zero_division` parameter to control this behavior.\n",
            "  _warn_prf(average, modifier, msg_start, len(result))\n"
          ]
        }
      ]
    },
    {
      "cell_type": "markdown",
      "source": [
        "SVM PARAMETERES C=0.01"
      ],
      "metadata": {
        "id": "A1JWt-7mvE2K"
      }
    },
    {
      "cell_type": "code",
      "source": [
        "model = svm.SVC(C=0.01)\n",
        "model.fit(x_train, y_train)\n",
        "y_pred = model.predict(X_test)\n",
        "print(classification_report(y_test, y_pred))\n"
      ],
      "metadata": {
        "colab": {
          "base_uri": "https://localhost:8080/"
        },
        "id": "4biABxM6kfEY",
        "outputId": "83de509b-ae0a-4791-e997-154281dbd648"
      },
      "execution_count": null,
      "outputs": [
        {
          "output_type": "stream",
          "name": "stdout",
          "text": [
            "              precision    recall  f1-score   support\n",
            "\n",
            "           0       0.00      0.00      0.00         2\n",
            "           1       0.00      0.00      0.00        15\n",
            "           2       0.63      1.00      0.77        29\n",
            "\n",
            "    accuracy                           0.63        46\n",
            "   macro avg       0.21      0.33      0.26        46\n",
            "weighted avg       0.40      0.63      0.49        46\n",
            "\n"
          ]
        },
        {
          "output_type": "stream",
          "name": "stderr",
          "text": [
            "/usr/local/lib/python3.8/dist-packages/sklearn/metrics/_classification.py:1318: UndefinedMetricWarning: Precision and F-score are ill-defined and being set to 0.0 in labels with no predicted samples. Use `zero_division` parameter to control this behavior.\n",
            "  _warn_prf(average, modifier, msg_start, len(result))\n",
            "/usr/local/lib/python3.8/dist-packages/sklearn/metrics/_classification.py:1318: UndefinedMetricWarning: Precision and F-score are ill-defined and being set to 0.0 in labels with no predicted samples. Use `zero_division` parameter to control this behavior.\n",
            "  _warn_prf(average, modifier, msg_start, len(result))\n",
            "/usr/local/lib/python3.8/dist-packages/sklearn/metrics/_classification.py:1318: UndefinedMetricWarning: Precision and F-score are ill-defined and being set to 0.0 in labels with no predicted samples. Use `zero_division` parameter to control this behavior.\n",
            "  _warn_prf(average, modifier, msg_start, len(result))\n"
          ]
        }
      ]
    }
  ],
  "metadata": {
    "colab": {
      "provenance": []
    },
    "kernelspec": {
      "display_name": "Python 3",
      "name": "python3"
    },
    "language_info": {
      "name": "python"
    }
  },
  "nbformat": 4,
  "nbformat_minor": 0
}